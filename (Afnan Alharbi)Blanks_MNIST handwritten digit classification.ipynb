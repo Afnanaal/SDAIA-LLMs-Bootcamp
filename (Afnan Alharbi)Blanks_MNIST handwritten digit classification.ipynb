{
 "cells": [
  {
   "cell_type": "markdown",
   "metadata": {
    "id": "sxquFBDorNn2"
   },
   "source": [
    "# Handwritten Digit Classification\n",
    "\n",
    "\n",
    "For this Hands-on, we will use the popular scikit-learn library to build a basic classifier. The MNIST dataset contains images of handwritten digits, and the task is to classify each image into its corresponding digit (0 to 9)."
   ]
  },
  {
   "cell_type": "markdown",
   "metadata": {
    "id": "LFjb1WbUtzcT"
   },
   "source": [
    "## Import Libraries"
   ]
  },
  {
   "cell_type": "code",
   "execution_count": 18,
   "metadata": {
    "id": "vZuJJeZBt1NX"
   },
   "outputs": [],
   "source": [
    "# Import required libraries\n",
    "import numpy as np\n",
    "import matplotlib.pyplot as plt\n",
    "from keras.datasets import mnist\n",
    "from keras.models import Sequential\n",
    "from keras.layers import Conv2D, MaxPooling2D, Flatten, Dense\n",
    "from keras.utils import to_categorical\n",
    "from sklearn.model_selection import train_test_split"
   ]
  },
  {
   "cell_type": "markdown",
   "metadata": {
    "id": "izR8JS-irUfe"
   },
   "source": [
    "## Load the Dataset"
   ]
  },
  {
   "cell_type": "markdown",
   "metadata": {
    "id": "ksDVyrnEaqY9"
   },
   "source": [
    "**Question 1:** Load the train and test subsets of the mnist dataset from Keras"
   ]
  },
  {
   "cell_type": "code",
   "execution_count": 19,
   "metadata": {
    "id": "tPZGpMact7Hh"
   },
   "outputs": [],
   "source": [
    "import tensorflow as tf\n",
    "\n",
    "# Load the MNIST dataset\n",
    "(X_train, y_train), (X_test, y_test) =tf.keras.datasets.mnist.load_data()\n",
    "#(X_train, y_train), (X_test, y_test) = mnist.load_data()\n"
   ]
  },
  {
   "cell_type": "markdown",
   "metadata": {
    "id": "1hRAaUS5uBa5"
   },
   "source": [
    "## Data Pre-Processing"
   ]
  },
  {
   "cell_type": "markdown",
   "metadata": {
    "id": "pk-ekR4Wa1AD"
   },
   "source": [
    "**Question 2:**  \n",
    "\n",
    "*   Adjust the input shape to match the one the model is expecting\n",
    "*   Normalize the values of the pixels\n",
    "*   Turn labels into categories using the to_categorical function"
   ]
  },
  {
   "cell_type": "code",
   "execution_count": 20,
   "metadata": {
    "id": "6PlFzdt2uAOc"
   },
   "outputs": [
    {
     "name": "stdout",
     "output_type": "stream",
     "text": [
      "(60000, 28, 28, 1)\n",
      "(10000, 28, 28, 1)\n"
     ]
    }
   ],
   "source": [
    "# Preprocess the data\n",
    "\n",
    "X_train = X_train.reshape((X_train.shape[0], X_train.shape[1], X_train.shape[2], 1)) / 255.0\n",
    "X_test = X_test.reshape((X_test.shape[0], X_test.shape[1], X_test.shape[2], 1)) / 255.0\n",
    "print(X_train.shape)\n",
    "print(X_test.shape)\n",
    "\n",
    "y_train = to_categorical(y_train)\n",
    "y_test = to_categorical(y_test)\n"
   ]
  },
  {
   "cell_type": "markdown",
   "metadata": {},
   "source": [
    "#### As we can see, the data is split into two parts, from 70,000 images approximately 80% into training data(60,000) and 20% into testing data(10,000). The size of the images is 28x28"
   ]
  },
  {
   "cell_type": "markdown",
   "metadata": {
    "id": "C2P2NYGAu3uf"
   },
   "source": [
    "## Build and train a CNN"
   ]
  },
  {
   "cell_type": "markdown",
   "metadata": {
    "id": "gBh_E3p8yQJd"
   },
   "source": [
    "**Question 3:** Create a Convolutional neural Network of your choice and be carefyl while you select the following:\n",
    "\n",
    "\n",
    "*   input shape\n",
    "*   activation function at the output layer\n",
    "*   number of output neurons\n",
    "\n"
   ]
  },
  {
   "cell_type": "code",
   "execution_count": 21,
   "metadata": {},
   "outputs": [
    {
     "name": "stdout",
     "output_type": "stream",
     "text": [
      "Model: \"sequential_2\"\n",
      "_________________________________________________________________\n",
      " Layer (type)                Output Shape              Param #   \n",
      "=================================================================\n",
      " conv2d_2 (Conv2D)           (None, 26, 26, 32)        320       \n",
      "                                                                 \n",
      " max_pooling2d_2 (MaxPoolin  (None, 13, 13, 32)        0         \n",
      " g2D)                                                            \n",
      "                                                                 \n",
      " flatten_2 (Flatten)         (None, 5408)              0         \n",
      "                                                                 \n",
      " dense_3 (Dense)             (None, 100)               540900    \n",
      "                                                                 \n",
      " dense_4 (Dense)             (None, 10)                1010      \n",
      "                                                                 \n",
      "=================================================================\n",
      "Total params: 542230 (2.07 MB)\n",
      "Trainable params: 542230 (2.07 MB)\n",
      "Non-trainable params: 0 (0.00 Byte)\n",
      "_________________________________________________________________\n"
     ]
    }
   ],
   "source": [
    "import matplotlib.pyplot as plt\n",
    "\n",
    "from keras.models import Sequential\n",
    "from keras.layers import Conv2D, MaxPooling2D, Flatten, Dense\n",
    "\n",
    "\n",
    "# Build the CNN model\n",
    "model = Sequential()\n",
    "model.add(Conv2D(32, kernel_size=(3, 3), activation='relu', input_shape=(28, 28, 1)))\n",
    "model.add(MaxPooling2D(2, 2))\n",
    "model.add(Flatten())\n",
    "model.add(Dense(100, activation='relu'))\n",
    "model.add(Dense(10, activation='softmax'))\n",
    "model.summary()\n",
    "\n"
   ]
  },
  {
   "cell_type": "markdown",
   "metadata": {},
   "source": [
    "Question 4: Compile and train the model. Choose an appropriate loss function, optimizer, and print out the accuracy of the model."
   ]
  },
  {
   "cell_type": "code",
   "execution_count": 22,
   "metadata": {
    "id": "EsBT-jSlyo35"
   },
   "outputs": [
    {
     "name": "stdout",
     "output_type": "stream",
     "text": [
      "Epoch 1/5\n",
      "1500/1500 [==============================] - 39s 24ms/step - loss: 0.1781 - accuracy: 0.9466 - val_loss: 0.0760 - val_accuracy: 0.9781\n",
      "Epoch 2/5\n",
      "1500/1500 [==============================] - 36s 24ms/step - loss: 0.0605 - accuracy: 0.9818 - val_loss: 0.0572 - val_accuracy: 0.9842\n",
      "Epoch 3/5\n",
      "1500/1500 [==============================] - 36s 24ms/step - loss: 0.0399 - accuracy: 0.9881 - val_loss: 0.0641 - val_accuracy: 0.9815\n",
      "Epoch 4/5\n",
      "1500/1500 [==============================] - 36s 24ms/step - loss: 0.0270 - accuracy: 0.9913 - val_loss: 0.0591 - val_accuracy: 0.9842\n",
      "Epoch 5/5\n",
      "1500/1500 [==============================] - 35s 23ms/step - loss: 0.0198 - accuracy: 0.9934 - val_loss: 0.0558 - val_accuracy: 0.9851\n"
     ]
    }
   ],
   "source": [
    "# Compile the model\n",
    "\n",
    "model.compile(loss='categorical_crossentropy', optimizer='adam', metrics=['accuracy'])\n",
    "\n",
    "# Train the model\n",
    "\n",
    "history = model.fit(X_train, y_train, epochs=5, batch_size=32, validation_split=0.2)"
   ]
  },
  {
   "cell_type": "markdown",
   "metadata": {
    "id": "LaYsKjVSu9KF"
   },
   "source": [
    "## Evaluate the Model's performance"
   ]
  },
  {
   "cell_type": "markdown",
   "metadata": {
    "id": "57_7ykVky_j_"
   },
   "source": [
    "**Question 5:** Plot the training and validation accuracy to better understand the performance of the model."
   ]
  },
  {
   "cell_type": "markdown",
   "metadata": {},
   "source": [
    "After training the model successfully,we are using the testing dataset to test the accuracy of the model."
   ]
  },
  {
   "cell_type": "code",
   "execution_count": 25,
   "metadata": {
    "id": "-KqzKudQu8rv"
   },
   "outputs": [
    {
     "name": "stdout",
     "output_type": "stream",
     "text": [
      "313/313 [==============================] - 1s 4ms/step - loss: 0.0529 - accuracy: 0.9847\n",
      "Test Accuracy: 0.9847000241279602\n"
     ]
    },
    {
     "data": {
      "image/png": "[encoded data removed]",
      "text/plain": [
       "<Figure size 432x288 with 1 Axes>"
      ]
     },
     "metadata": {
      "needs_background": "light"
     },
     "output_type": "display_data"
    }
   ],
   "source": [
    "# Evaluate the model on the test set\n",
    "test_loss, test_accuracy = model.evaluate(X_test, y_test)\n",
    "print(\"Test Accuracy:\", test_accuracy)\n",
    "\n",
    "# Plot the training and validation accuracy over epochs\n",
    "\n",
    "plt.plot(history.history['accuracy'], label='Training Accuracy')\n",
    "plt.plot(history.history['val_accuracy'], label='Validation Accuracy')\n",
    "\n",
    "plt.xlabel('Epoch')\n",
    "plt.ylabel('Accuracy')\n",
    "plt.legend()\n",
    "plt.show()\n"
   ]
  }
 ],
 "metadata": {
  "colab": {
   "authorship_tag": "ABX9TyMwFG0jmmHM4o26vuWVAgHM",
   "provenance": [],
   "toc_visible": true
  },
  "kernelspec": {
   "display_name": "Python 3 (ipykernel)",
   "language": "python",
   "name": "python3"
  },
  "language_info": {
   "codemirror_mode": {
    "name": "ipython",
    "version": 3
   },
   "file_extension": ".py",
   "mimetype": "text/x-python",
   "name": "python",
   "nbconvert_exporter": "python",
   "pygments_lexer": "ipython3",
   "version": "3.9.7"
  }
 },
 "nbformat": 4,
 "nbformat_minor": 1
}
